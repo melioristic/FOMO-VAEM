{
 "cells": [
  {
   "cell_type": "code",
   "execution_count": 7,
   "metadata": {},
   "outputs": [],
   "source": [
    "import h5py\n",
    "import numpy as np"
   ]
  },
  {
   "cell_type": "code",
   "execution_count": 4,
   "metadata": {},
   "outputs": [],
   "source": [
    "def read_ml_data(name):\n",
    "    with h5py.File(name) as f:\n",
    "        # r_w = f[\"r_w\"][:]\n",
    "        # r_s = f[\"r_s\"][:]\n",
    "        # x_w = f[\"x_w\"][:]\n",
    "        # x_s = f[\"x_s\"][:]\n",
    "        mu_w = f[\"mu_w\"][:]\n",
    "        mu_s = f[\"mu_s\"][:]\n",
    "        # log_var_w = f[\"log_var_w\"][:]\n",
    "        # log_var_s = f[\"log_var_s\"][:]\n",
    "        bl = f[\"bl\"][:]\n",
    "        \n",
    "    return np.concatenate([mu_w, mu_s, bl[:, np.newaxis]], axis=1)"
   ]
  },
  {
   "cell_type": "code",
   "execution_count": 5,
   "metadata": {},
   "outputs": [],
   "source": [
    "r_w, x_w, mu_w, log_var_w, r_s, x_s, mu_s, log_var_s, bl  = read_data(\"data/train.h5\")"
   ]
  },
  {
   "cell_type": "code",
   "execution_count": 19,
   "metadata": {},
   "outputs": [],
   "source": [
    "data = "
   ]
  },
  {
   "cell_type": "code",
   "execution_count": 20,
   "metadata": {},
   "outputs": [
    {
     "data": {
      "text/plain": [
       "(127980, 65)"
      ]
     },
     "execution_count": 20,
     "metadata": {},
     "output_type": "execute_result"
    }
   ],
   "source": [
    "data.shape"
   ]
  },
  {
   "cell_type": "code",
   "execution_count": null,
   "metadata": {},
   "outputs": [],
   "source": []
  }
 ],
 "metadata": {
  "kernelspec": {
   "display_name": "TORCH311",
   "language": "python",
   "name": "python3"
  },
  "language_info": {
   "codemirror_mode": {
    "name": "ipython",
    "version": 3
   },
   "file_extension": ".py",
   "mimetype": "text/x-python",
   "name": "python",
   "nbconvert_exporter": "python",
   "pygments_lexer": "ipython3",
   "version": "3.11.4"
  },
  "orig_nbformat": 4
 },
 "nbformat": 4,
 "nbformat_minor": 2
}
